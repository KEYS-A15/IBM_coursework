{
 "cells": [
  {
   "cell_type": "markdown",
   "metadata": {},
   "source": [
    "<center>\n",
    "    <img src=\"https://cf-courses-data.s3.us.cloud-object-storage.appdomain.cloud/IBMDeveloperSkillsNetwork-DS0105EN-SkillsNetwork/labs/Module2/images/SN_web_lightmode.png\" width=\"300\" alt=\"cognitiveclass.ai logo\">\n",
    "</center>\n"
   ]
  },
  {
   "cell_type": "markdown",
   "metadata": {
    "tags": []
   },
   "source": [
    "#### Add your code below following the instructions given in the course\n"
   ]
  },
  {
   "cell_type": "markdown",
   "metadata": {},
   "source": [
    "# My Jupyter Notebook on IBM Watson Studio"
   ]
  },
  {
   "cell_type": "markdown",
   "metadata": {},
   "source": [
    "**Shrey Gajjar**<br>\n",
    "Student and Associate Data Analyst"
   ]
  },
  {
   "cell_type": "markdown",
   "metadata": {},
   "source": [
    "*I am interested in Data Science because data science is an umberella feild enclosing entire process starting from Big Data to Machine Learning. As a Student and Associate Data Analyst I aim to gain further expertise in entire data science process and proceed in the field of AI.*"
   ]
  },
  {
   "cell_type": "markdown",
   "metadata": {},
   "source": [
    "### Code below is a to take two numbers from user and print the product.  "
   ]
  },
  {
   "cell_type": "code",
   "execution_count": 1,
   "metadata": {},
   "outputs": [
    {
     "name": "stdin",
     "output_type": "stream",
     "text": [
      "input first number :  34\n",
      "input second number :  56\n"
     ]
    },
    {
     "name": "stdout",
     "output_type": "stream",
     "text": [
      "The product of provided number is :  1904\n"
     ]
    }
   ],
   "source": [
    "x = int(input(\"input first number : \"))\n",
    "y = int(input(\"input second number : \"))\n",
    "\n",
    "print(\"The product of provided number is : \", x*y)"
   ]
  },
  {
   "cell_type": "markdown",
   "metadata": {},
   "source": [
    "#### basics <hr>\n",
    "In a python notebook markdown is to write code descriptions and details.\n",
    "we can use bullets for this \n",
    "- point 1\n",
    "- point 2\n",
    "- point 3\n",
    "\n",
    "we can also insert hyperlinks\n",
    "- [link to google](https://www.google.com)\n",
    "- [link to another markdown with heading \"My Jupyter Notebook on IBM Watson Studio\"](#My-Jupyter-Notebook-on-IBM-Watson-Studio)\n",
    "\n",
    "The bullets can also be numbered\n",
    "* numbered 1\n",
    "* n"
   ]
  },
  {
   "cell_type": "code",
   "execution_count": null,
   "metadata": {},
   "outputs": [],
   "source": []
  }
 ],
 "metadata": {
  "kernelspec": {
   "display_name": "Python",
   "language": "python",
   "name": "conda-env-python-py"
  },
  "language_info": {
   "codemirror_mode": {
    "name": "ipython",
    "version": 3
   },
   "file_extension": ".py",
   "mimetype": "text/x-python",
   "name": "python",
   "nbconvert_exporter": "python",
   "pygments_lexer": "ipython3",
   "version": "3.7.12"
  }
 },
 "nbformat": 4,
 "nbformat_minor": 4
}
