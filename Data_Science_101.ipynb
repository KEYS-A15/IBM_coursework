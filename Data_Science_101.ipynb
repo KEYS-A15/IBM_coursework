{
 "cells": [
  {
   "cell_type": "markdown",
   "id": "c5b66f7c-f026-4bb8-b126-e4749edde3c1",
   "metadata": {},
   "source": [
    "# Data Science - 101"
   ]
  },
  {
   "cell_type": "markdown",
   "id": "229ce7d4-ddaa-4a65-afc3-35ef67733a97",
   "metadata": {},
   "source": [
    "*In this notebook we learn about **Data Science tools and ecosystems***"
   ]
  },
  {
   "cell_type": "markdown",
   "id": "b824f5bd-783d-4485-bca7-7898820581f3",
   "metadata": {},
   "source": [
    "Most commonly used languages in Data Science are :\n",
    "1. Python\n",
    "2. R language \n",
    "3. SQL\n",
    "4. Scala\n",
    "5. Julia "
   ]
  },
  {
   "cell_type": "markdown",
   "id": "17ca2613-c5d3-410b-9275-03ae4ce80923",
   "metadata": {},
   "source": [
    "Some commonly used libraries used by Data Scientists are :\n",
    "1. Pandas in python\n",
    "2. Numpy in python\n",
    "3. Matplotlib and Seaborn in python\n",
    "4. ggpllot in R language\n",
    "5. SciPy\n",
    "6. Tensorflow\n",
    "7. Scikit-Learn"
   ]
  },
  {
   "cell_type": "markdown",
   "id": "adb85729-9131-4558-a68a-b3311f4db4e0",
   "metadata": {},
   "source": [
    "Data Scientists use the following tools :\n",
    "|Tools| uses|\n",
    "|---|---|\n",
    "|Apache Hadoop| Big Data Analaysis|\n",
    "|Jupyter and Jupyter Lab| Development Environment|\n",
    "|IBM SPSS| Data management|\n",
    "|R Studio| Statistical Analysis and development tool|\n",
    "|IBM Watson Studio| Fully Integrated Cloud service|"
   ]
  },
  {
   "cell_type": "markdown",
   "id": "7a924ed9-5881-4bf2-b9d5-d641fca3b2af",
   "metadata": {},
   "source": [
    "Below code shows some arithmetic expression "
   ]
  },
  {
   "cell_type": "code",
   "execution_count": 4,
   "id": "8827c847-8caf-41b9-a128-1435f2e733ae",
   "metadata": {},
   "outputs": [
    {
     "data": {
      "text/plain": [
       "330"
      ]
     },
     "execution_count": 4,
     "metadata": {},
     "output_type": "execute_result"
    }
   ],
   "source": [
    "(((3*8)+9)*10)  # code to add a product of two integers to another integer and again multiply the sum to another integer"
   ]
  },
  {
   "cell_type": "code",
   "execution_count": 5,
   "id": "cf302d6c-15ad-48d9-8449-62ac17f7b276",
   "metadata": {},
   "outputs": [
    {
     "name": "stdout",
     "output_type": "stream",
     "text": [
      "Hours =  5.0\n"
     ]
    }
   ],
   "source": [
    "minutes = 300\n",
    "print(\"Hours = \", minutes/60)  # Converts minutes to hours by dividing it by 60 and prints it."
   ]
  },
  {
   "cell_type": "markdown",
   "id": "f225f607-d756-46ac-aa86-a630f11ae9fa",
   "metadata": {},
   "source": [
    "Objectives of this notebook is :\n",
    "- Learn about common languages Data Scientists use\n",
    "- Learn what are commonly used libraries in Data Science\n",
    "- Learn about Tools used in Data Science\n",
    "- Learn basic python codes "
   ]
  },
  {
   "cell_type": "code",
   "execution_count": null,
   "id": "73d8ce1c-14d8-4063-b5e5-80ccbcd95df3",
   "metadata": {},
   "outputs": [],
   "source": []
  }
 ],
 "metadata": {
  "kernelspec": {
   "display_name": "Python",
   "language": "python",
   "name": "conda-env-python-py"
  },
  "language_info": {
   "codemirror_mode": {
    "name": "ipython",
    "version": 3
   },
   "file_extension": ".py",
   "mimetype": "text/x-python",
   "name": "python",
   "nbconvert_exporter": "python",
   "pygments_lexer": "ipython3",
   "version": "3.7.12"
  }
 },
 "nbformat": 4,
 "nbformat_minor": 5
}
